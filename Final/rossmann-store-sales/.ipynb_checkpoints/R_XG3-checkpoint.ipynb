{
 "cells": [
  {
   "cell_type": "code",
   "execution_count": 106,
   "metadata": {
    "uuid": "bdb8d957-bfe5-4f35-9e17-20ee37c197ed"
   },
   "outputs": [
    {
     "name": "stderr",
     "output_type": "stream",
     "text": [
      "C:\\Users\\taili\\Anaconda3\\lib\\site-packages\\IPython\\core\\interactiveshell.py:3051: DtypeWarning: Columns (7) have mixed types. Specify dtype option on import or set low_memory=False.\n",
      "  interactivity=interactivity, compiler=compiler, result=result)\n"
     ]
    },
    {
     "data": {
      "text/html": [
       "<div>\n",
       "<style scoped>\n",
       "    .dataframe tbody tr th:only-of-type {\n",
       "        vertical-align: middle;\n",
       "    }\n",
       "\n",
       "    .dataframe tbody tr th {\n",
       "        vertical-align: top;\n",
       "    }\n",
       "\n",
       "    .dataframe thead th {\n",
       "        text-align: right;\n",
       "    }\n",
       "</style>\n",
       "<table border=\"1\" class=\"dataframe\">\n",
       "  <thead>\n",
       "    <tr style=\"text-align: right;\">\n",
       "      <th></th>\n",
       "      <th>Store</th>\n",
       "      <th>DayOfWeek</th>\n",
       "      <th>Date</th>\n",
       "      <th>Sales</th>\n",
       "      <th>Customers</th>\n",
       "      <th>Open</th>\n",
       "      <th>Promo</th>\n",
       "      <th>StateHoliday</th>\n",
       "      <th>SchoolHoliday</th>\n",
       "    </tr>\n",
       "  </thead>\n",
       "  <tbody>\n",
       "    <tr>\n",
       "      <th>0</th>\n",
       "      <td>1</td>\n",
       "      <td>5</td>\n",
       "      <td>2015-07-31</td>\n",
       "      <td>5263</td>\n",
       "      <td>555</td>\n",
       "      <td>1</td>\n",
       "      <td>1</td>\n",
       "      <td>0</td>\n",
       "      <td>1</td>\n",
       "    </tr>\n",
       "    <tr>\n",
       "      <th>1</th>\n",
       "      <td>2</td>\n",
       "      <td>5</td>\n",
       "      <td>2015-07-31</td>\n",
       "      <td>6064</td>\n",
       "      <td>625</td>\n",
       "      <td>1</td>\n",
       "      <td>1</td>\n",
       "      <td>0</td>\n",
       "      <td>1</td>\n",
       "    </tr>\n",
       "    <tr>\n",
       "      <th>2</th>\n",
       "      <td>3</td>\n",
       "      <td>5</td>\n",
       "      <td>2015-07-31</td>\n",
       "      <td>8314</td>\n",
       "      <td>821</td>\n",
       "      <td>1</td>\n",
       "      <td>1</td>\n",
       "      <td>0</td>\n",
       "      <td>1</td>\n",
       "    </tr>\n",
       "    <tr>\n",
       "      <th>3</th>\n",
       "      <td>4</td>\n",
       "      <td>5</td>\n",
       "      <td>2015-07-31</td>\n",
       "      <td>13995</td>\n",
       "      <td>1498</td>\n",
       "      <td>1</td>\n",
       "      <td>1</td>\n",
       "      <td>0</td>\n",
       "      <td>1</td>\n",
       "    </tr>\n",
       "    <tr>\n",
       "      <th>4</th>\n",
       "      <td>5</td>\n",
       "      <td>5</td>\n",
       "      <td>2015-07-31</td>\n",
       "      <td>4822</td>\n",
       "      <td>559</td>\n",
       "      <td>1</td>\n",
       "      <td>1</td>\n",
       "      <td>0</td>\n",
       "      <td>1</td>\n",
       "    </tr>\n",
       "  </tbody>\n",
       "</table>\n",
       "</div>"
      ],
      "text/plain": [
       "   Store  DayOfWeek        Date  Sales  Customers  Open  Promo StateHoliday  \\\n",
       "0      1          5  2015-07-31   5263        555     1      1            0   \n",
       "1      2          5  2015-07-31   6064        625     1      1            0   \n",
       "2      3          5  2015-07-31   8314        821     1      1            0   \n",
       "3      4          5  2015-07-31  13995       1498     1      1            0   \n",
       "4      5          5  2015-07-31   4822        559     1      1            0   \n",
       "\n",
       "   SchoolHoliday  \n",
       "0              1  \n",
       "1              1  \n",
       "2              1  \n",
       "3              1  \n",
       "4              1  "
      ]
     },
     "metadata": {},
     "output_type": "display_data"
    }
   ],
   "source": [
    "# 导入必须的库\n",
    "import numpy as np\n",
    "import pandas as pd\n",
    "from time import time\n",
    "from IPython.display import display\n",
    "# import pandas_profiling\n",
    "\n",
    "import warnings\n",
    "warnings.simplefilter(action='ignore', category=FutureWarning)\n",
    "\n",
    "%matplotlib inline\n",
    "\n",
    "# 导入数据\n",
    "data_train = pd.read_csv(\"train.csv\")\n",
    "data_store = pd.read_csv(\"store.csv\")\n",
    "data_test = pd.read_csv(\"test.csv\")\n",
    "\n",
    "# 显示第一条记录\n",
    "display(data_train.head())"
   ]
  },
  {
   "cell_type": "code",
   "execution_count": 107,
   "metadata": {},
   "outputs": [
    {
     "data": {
      "text/plain": [
       "Store            0\n",
       "DayOfWeek        0\n",
       "Date             0\n",
       "Sales            0\n",
       "Customers        0\n",
       "Open             0\n",
       "Promo            0\n",
       "StateHoliday     0\n",
       "SchoolHoliday    0\n",
       "dtype: int64"
      ]
     },
     "metadata": {},
     "output_type": "display_data"
    },
    {
     "data": {
      "text/plain": [
       "Store            0\n",
       "DayOfWeek        0\n",
       "Date             0\n",
       "Sales            0\n",
       "Customers        0\n",
       "Open             0\n",
       "Promo            0\n",
       "StateHoliday     0\n",
       "SchoolHoliday    0\n",
       "dtype: int64"
      ]
     },
     "metadata": {},
     "output_type": "display_data"
    },
    {
     "data": {
      "text/plain": [
       "Store                          0\n",
       "StoreType                      0\n",
       "Assortment                     0\n",
       "CompetitionDistance            3\n",
       "CompetitionOpenSinceMonth    354\n",
       "CompetitionOpenSinceYear     354\n",
       "Promo2                         0\n",
       "Promo2SinceWeek              544\n",
       "Promo2SinceYear              544\n",
       "PromoInterval                544\n",
       "dtype: int64"
      ]
     },
     "metadata": {},
     "output_type": "display_data"
    }
   ],
   "source": [
    "#Null值\n",
    "display(data_train.isnull().sum(),data_train.isnull().sum(),data_store.isnull().sum())"
   ]
  },
  {
   "cell_type": "code",
   "execution_count": 108,
   "metadata": {
    "uuid": "fa14f835-7043-4f9e-a537-198661ea8b6f"
   },
   "outputs": [],
   "source": [
    "#Null值处理\n",
    "data_store.fillna(0,inplace=True)\n",
    "data_test.fillna(1, inplace=True)"
   ]
  },
  {
   "cell_type": "code",
   "execution_count": 109,
   "metadata": {},
   "outputs": [
    {
     "data": {
      "text/plain": [
       "Store            0\n",
       "DayOfWeek        0\n",
       "Date             0\n",
       "Sales            0\n",
       "Customers        0\n",
       "Open             0\n",
       "Promo            0\n",
       "StateHoliday     0\n",
       "SchoolHoliday    0\n",
       "dtype: int64"
      ]
     },
     "metadata": {},
     "output_type": "display_data"
    },
    {
     "data": {
      "text/plain": [
       "Store            0\n",
       "DayOfWeek        0\n",
       "Date             0\n",
       "Sales            0\n",
       "Customers        0\n",
       "Open             0\n",
       "Promo            0\n",
       "StateHoliday     0\n",
       "SchoolHoliday    0\n",
       "dtype: int64"
      ]
     },
     "metadata": {},
     "output_type": "display_data"
    },
    {
     "data": {
      "text/plain": [
       "Store                        0\n",
       "StoreType                    0\n",
       "Assortment                   0\n",
       "CompetitionDistance          0\n",
       "CompetitionOpenSinceMonth    0\n",
       "CompetitionOpenSinceYear     0\n",
       "Promo2                       0\n",
       "Promo2SinceWeek              0\n",
       "Promo2SinceYear              0\n",
       "PromoInterval                0\n",
       "dtype: int64"
      ]
     },
     "metadata": {},
     "output_type": "display_data"
    }
   ],
   "source": [
    "#Null值\n",
    "display(data_train.isnull().sum(),data_train.isnull().sum(),data_store.isnull().sum())"
   ]
  },
  {
   "cell_type": "code",
   "execution_count": 110,
   "metadata": {},
   "outputs": [
    {
     "data": {
      "text/plain": [
       "Store             int64\n",
       "DayOfWeek         int64\n",
       "Date             object\n",
       "Sales             int64\n",
       "Customers         int64\n",
       "Open              int64\n",
       "Promo             int64\n",
       "StateHoliday     object\n",
       "SchoolHoliday     int64\n",
       "dtype: object"
      ]
     },
     "metadata": {},
     "output_type": "display_data"
    },
    {
     "data": {
      "text/plain": [
       "Id                 int64\n",
       "Store              int64\n",
       "DayOfWeek          int64\n",
       "Date              object\n",
       "Open             float64\n",
       "Promo              int64\n",
       "StateHoliday      object\n",
       "SchoolHoliday      int64\n",
       "dtype: object"
      ]
     },
     "metadata": {},
     "output_type": "display_data"
    }
   ],
   "source": [
    "display(data_train.dtypes,data_test.dtypes)"
   ]
  },
  {
   "cell_type": "code",
   "execution_count": 111,
   "metadata": {},
   "outputs": [],
   "source": [
    "#日期格式转换\n",
    "data_train['Date'] = pd.to_datetime(data_train['Date'])\n",
    "data_test['Date'] = pd.to_datetime(data_test['Date'])"
   ]
  },
  {
   "cell_type": "code",
   "execution_count": 112,
   "metadata": {},
   "outputs": [],
   "source": [
    "train = pd.merge(data_train, data_store, on='Store')\n",
    "test = pd.merge(data_test, data_store, on='Store')"
   ]
  },
  {
   "cell_type": "code",
   "execution_count": 113,
   "metadata": {},
   "outputs": [],
   "source": [
    "train = train.sort_values(['Date'],ascending = False)\n",
    "ho_test = train[:6*7*1115]\n",
    "ho_train = train[6*7*1115:]"
   ]
  },
  {
   "cell_type": "code",
   "execution_count": 114,
   "metadata": {
    "uuid": "1be9958e-cffb-4179-9097-d013498a2e6d"
   },
   "outputs": [],
   "source": [
    "# only use data of Sales>0 and Open is 1\n",
    "ho_test = ho_test[(ho_test[\"Open\"] != 0)&(ho_test[\"Sales\"] > 0)]\n",
    "ho_train = ho_train[(ho_train[\"Open\"] != 0)&(ho_train[\"Sales\"] > 0)]"
   ]
  },
  {
   "cell_type": "code",
   "execution_count": 115,
   "metadata": {},
   "outputs": [],
   "source": [
    "def features_create(data):\n",
    "    \n",
    "    mappings = {'0':0, 'a':1, 'b':2, 'c':3, 'd':4}\n",
    "    data.StoreType.replace(mappings, inplace=True)\n",
    "    data.Assortment.replace(mappings, inplace=True)\n",
    "    data.StateHoliday.replace(mappings, inplace=True)\n",
    "    \n",
    "    data['StateHoliday'] = data['StateHoliday'].astype('int')\n",
    "    data['Assortment'] = data['Assortment'].astype('int')\n",
    "    data['StoreType'] = data['StoreType'].astype('int')\n",
    "    \n",
    "    \n",
    "    data['Year'] = data.Date.dt.year\n",
    "    data['Month'] = data.Date.dt.month\n",
    "    data['Day'] = data.Date.dt.day\n",
    "    data['DayOfWeek'] = data.Date.dt.dayofweek\n",
    "    data['WeekOfYear'] = data.Date.dt.weekofyear\n",
    "    \n",
    "    \n",
    "    \n",
    "    data['CompetitionOpen'] = 12 * (data.Year - data.CompetitionOpenSinceYear) +         (data.Month - data.CompetitionOpenSinceMonth)\n",
    "    data['PromoOpen'] = 12 * (data.Year - data.Promo2SinceYear) +         (data.WeekOfYear - data.Promo2SinceWeek) / 4.0\n",
    "    data['CompetitionOpen'] = data.CompetitionOpen.apply(lambda x: x if x > 0 else 0)        \n",
    "    data['PromoOpen'] = data.PromoOpen.apply(lambda x: x if x > 0 else 0)\n",
    "    \n",
    "    \n",
    "  \n",
    "    month2str = {1:'Jan', 2:'Feb', 3:'Mar', 4:'Apr', 5:'May', 6:'Jun',              7:'Jul', 8:'Aug', 9:'Sept', 10:'Oct', 11:'Nov', 12:'Dec'}\n",
    "    data['monthStr'] = data.Month.map(month2str)\n",
    "    data.loc[data.PromoInterval == 0, 'PromoInterval'] = ''\n",
    "    data['IsPromoMonth'] = 0\n",
    "    for interval in data.PromoInterval.unique():\n",
    "        if interval != '':\n",
    "            for month in interval.split(','):\n",
    "                data.loc[(data.monthStr == month) & (data.PromoInterval == interval), 'IsPromoMonth'] = 1\n",
    "\n",
    "    return data"
   ]
  },
  {
   "cell_type": "code",
   "execution_count": 116,
   "metadata": {},
   "outputs": [
    {
     "name": "stdout",
     "output_type": "stream",
     "text": [
      "Features creation finished\n"
     ]
    }
   ],
   "source": [
    "features_create(ho_train)\n",
    "features_create(ho_test)\n",
    "features_create(test)\n",
    "print('Features creation finished')"
   ]
  },
  {
   "cell_type": "code",
   "execution_count": 117,
   "metadata": {},
   "outputs": [],
   "source": [
    "# drop the features of not help\n",
    "ho_train.drop(['Date','Customers','Open','PromoInterval','monthStr'],axis=1,inplace =True)\n",
    "ho_test.drop(['Date','Customers','Open','PromoInterval','monthStr'],axis=1,inplace =True)"
   ]
  },
  {
   "cell_type": "code",
   "execution_count": 118,
   "metadata": {},
   "outputs": [],
   "source": [
    "ho_xtrain = ho_train.drop(['Sales'],axis=1 )\n",
    "ho_ytrain = np.log1p(ho_train.Sales)\n",
    "ho_xtest = ho_test.drop(['Sales'],axis=1 )\n",
    "ho_ytest = np.log1p(ho_test.Sales)"
   ]
  },
  {
   "cell_type": "code",
   "execution_count": 119,
   "metadata": {},
   "outputs": [],
   "source": [
    "xtest =test.drop(['Id','Date','Open','PromoInterval','monthStr'],axis = 1)"
   ]
  },
  {
   "cell_type": "code",
   "execution_count": 120,
   "metadata": {},
   "outputs": [],
   "source": [
    "#定义评估函数\n",
    "def rmse(y_true, y_pred):\n",
    "    loss = np.sqrt(np.mean(np.square(((y_true - y_pred) / y_true)), axis=0))\n",
    "    return loss\n",
    "\n",
    "def rmspe_xg(y_pred, y_true):\n",
    "    return \"rmspe\", rmspe(np.expm1(y_true.get_label()),np.expm1(y_pred))"
   ]
  },
  {
   "cell_type": "code",
   "execution_count": 164,
   "metadata": {},
   "outputs": [],
   "source": [
    "#XGboost参数设置\n",
    "params = {\"objective\": \"reg:squarederror\",\n",
    "          'learning_rate':0.1,\n",
    "          \"booster\" : \"gbtree\",\n",
    "          \"eta\": 0.03,\n",
    "          \"max_depth\": 10,\n",
    "          \"min_child_weight\":1,\n",
    "          \"subsample\": 0.9,\n",
    "          \"colsample_bytree\": 0.7,\n",
    "          \"gamma\":0.8,\n",
    "          \"silent\": 1,\n",
    "          \"seed\": 10,\n",
    "          \"tree_method\":\"gpu_hist\",\n",
    "          \"gpu_id\":0\n",
    "          }\n",
    "num_boost_round = 10000"
   ]
  },
  {
   "cell_type": "code",
   "execution_count": 165,
   "metadata": {},
   "outputs": [],
   "source": [
    "dtrain = xgb.DMatrix(ho_xtrain, ho_ytrain)\n",
    "dvalid = xgb.DMatrix(ho_xtest, ho_ytest)\n",
    "watchlist = [(dtrain, 'train'), (dvalid, 'eval')]"
   ]
  },
  {
   "cell_type": "code",
   "execution_count": 167,
   "metadata": {},
   "outputs": [],
   "source": [
    "def grid_dict(param_test):\n",
    "    combine_list = []\n",
    "    key_nums = 0\n",
    "    for i in param_test:\n",
    "        key_nums += 1\n",
    "        for j in param_test[i]:\n",
    "            combine_list.append({i:j})\n",
    "\n",
    "    from itertools import combinations\n",
    "    result = []\n",
    "    for i in combinations(combine_list, 2):\n",
    "        tmp_dict = {}\n",
    "        for j in list(i):\n",
    "            for key in j:\n",
    "                tmp_dict[key] = j[key]\n",
    "        if len(tmp_dict) == key_nums:\n",
    "            result.append(tmp_dict)\n",
    "    \n",
    "    return result\n",
    "\n",
    "def train_model(params):\n",
    "    print(\"Train a XGBoost model\")\n",
    "    start = time()\n",
    "    gbm = xgb.train(params, dtrain, num_boost_round, evals=watchlist,early_stopping_rounds=100, feval=rmspe_xg, verbose_eval=False)\n",
    "    end = time()\n",
    "    print('Training time is {:2f} s.'.format(end-start))\n",
    "    \n",
    "    print(\"validating\")\n",
    "    ho_xtest.sort_index(inplace=True) \n",
    "    ho_ytest.sort_index(inplace=True) \n",
    "    yhat = gbm.predict(xgb.DMatrix(ho_xtest))\n",
    "    error = rmspe(np.expm1(ho_ytest), np.expm1(yhat))\n",
    "\n",
    "    print('RMSPE: {:.6f}'.format(error))\n",
    "    return error\n",
    "\n",
    "def grid_search_xg(params, params_grid):\n",
    "    iter_num = 0\n",
    "    grid_list = grid_dict(params_grid)\n",
    "    print('Iter nums is {:1f}.'.format(len(grid_list)))\n",
    "    min_error = 100\n",
    "    result_params = []\n",
    "    for i in grid_list:\n",
    "        for key in i:\n",
    "            params[key] = i[key]\n",
    "        print(params)\n",
    "        error = train_model(params)\n",
    "        if error<min_error:\n",
    "            result_params = i\n",
    "            min_error = error\n",
    "        iter_num += 1\n",
    "        print('Iter No is {:1f}.'.format(iter_num))\n",
    "    \n",
    "    return result_params        "
   ]
  },
  {
   "cell_type": "code",
   "execution_count": 168,
   "metadata": {},
   "outputs": [],
   "source": [
    "param_grid = {'max_depth':range(3,10,1), 'min_child_weight':range(1,10,1)}"
   ]
  },
  {
   "cell_type": "code",
   "execution_count": null,
   "metadata": {},
   "outputs": [
    {
     "name": "stdout",
     "output_type": "stream",
     "text": [
      "Iter nums is 63.000000.\n",
      "{'objective': 'reg:squarederror', 'learning_rate': 0.1, 'booster': 'gbtree', 'eta': 0.03, 'max_depth': 3, 'min_child_weight': 1, 'subsample': 0.9, 'colsample_bytree': 0.7, 'gamma': 0.8, 'silent': 1, 'seed': 10, 'tree_method': 'gpu_hist', 'gpu_id': 0}\n",
      "Train a XGBoost model\n",
      "Training time is 5.407043 s.\n",
      "validating\n",
      "RMSPE: 0.359378\n",
      "Iter No is 1.000000.\n",
      "{'objective': 'reg:squarederror', 'learning_rate': 0.1, 'booster': 'gbtree', 'eta': 0.03, 'max_depth': 3, 'min_child_weight': 2, 'subsample': 0.9, 'colsample_bytree': 0.7, 'gamma': 0.8, 'silent': 1, 'seed': 10, 'tree_method': 'gpu_hist', 'gpu_id': 0}\n",
      "Train a XGBoost model\n",
      "Training time is 5.285989 s.\n",
      "validating\n",
      "RMSPE: 0.359379\n",
      "Iter No is 2.000000.\n",
      "{'objective': 'reg:squarederror', 'learning_rate': 0.1, 'booster': 'gbtree', 'eta': 0.03, 'max_depth': 3, 'min_child_weight': 3, 'subsample': 0.9, 'colsample_bytree': 0.7, 'gamma': 0.8, 'silent': 1, 'seed': 10, 'tree_method': 'gpu_hist', 'gpu_id': 0}\n",
      "Train a XGBoost model\n",
      "Training time is 5.264023 s.\n",
      "validating\n",
      "RMSPE: 0.359378\n",
      "Iter No is 3.000000.\n",
      "{'objective': 'reg:squarederror', 'learning_rate': 0.1, 'booster': 'gbtree', 'eta': 0.03, 'max_depth': 3, 'min_child_weight': 4, 'subsample': 0.9, 'colsample_bytree': 0.7, 'gamma': 0.8, 'silent': 1, 'seed': 10, 'tree_method': 'gpu_hist', 'gpu_id': 0}\n",
      "Train a XGBoost model\n",
      "Training time is 5.322912 s.\n",
      "validating\n",
      "RMSPE: 0.359390\n",
      "Iter No is 4.000000.\n",
      "{'objective': 'reg:squarederror', 'learning_rate': 0.1, 'booster': 'gbtree', 'eta': 0.03, 'max_depth': 3, 'min_child_weight': 5, 'subsample': 0.9, 'colsample_bytree': 0.7, 'gamma': 0.8, 'silent': 1, 'seed': 10, 'tree_method': 'gpu_hist', 'gpu_id': 0}\n",
      "Train a XGBoost model\n",
      "Training time is 5.300474 s.\n",
      "validating\n",
      "RMSPE: 0.359378\n",
      "Iter No is 5.000000.\n",
      "{'objective': 'reg:squarederror', 'learning_rate': 0.1, 'booster': 'gbtree', 'eta': 0.03, 'max_depth': 3, 'min_child_weight': 6, 'subsample': 0.9, 'colsample_bytree': 0.7, 'gamma': 0.8, 'silent': 1, 'seed': 10, 'tree_method': 'gpu_hist', 'gpu_id': 0}\n",
      "Train a XGBoost model\n",
      "Training time is 5.279305 s.\n",
      "validating\n",
      "RMSPE: 0.359379\n",
      "Iter No is 6.000000.\n",
      "{'objective': 'reg:squarederror', 'learning_rate': 0.1, 'booster': 'gbtree', 'eta': 0.03, 'max_depth': 3, 'min_child_weight': 7, 'subsample': 0.9, 'colsample_bytree': 0.7, 'gamma': 0.8, 'silent': 1, 'seed': 10, 'tree_method': 'gpu_hist', 'gpu_id': 0}\n",
      "Train a XGBoost model\n",
      "Training time is 5.376183 s.\n",
      "validating\n",
      "RMSPE: 0.359378\n",
      "Iter No is 7.000000.\n",
      "{'objective': 'reg:squarederror', 'learning_rate': 0.1, 'booster': 'gbtree', 'eta': 0.03, 'max_depth': 3, 'min_child_weight': 8, 'subsample': 0.9, 'colsample_bytree': 0.7, 'gamma': 0.8, 'silent': 1, 'seed': 10, 'tree_method': 'gpu_hist', 'gpu_id': 0}\n",
      "Train a XGBoost model\n",
      "Training time is 5.319098 s.\n",
      "validating\n",
      "RMSPE: 0.359378\n",
      "Iter No is 8.000000.\n",
      "{'objective': 'reg:squarederror', 'learning_rate': 0.1, 'booster': 'gbtree', 'eta': 0.03, 'max_depth': 3, 'min_child_weight': 9, 'subsample': 0.9, 'colsample_bytree': 0.7, 'gamma': 0.8, 'silent': 1, 'seed': 10, 'tree_method': 'gpu_hist', 'gpu_id': 0}\n",
      "Train a XGBoost model\n",
      "Training time is 5.264006 s.\n",
      "validating\n",
      "RMSPE: 0.359378\n",
      "Iter No is 9.000000.\n",
      "{'objective': 'reg:squarederror', 'learning_rate': 0.1, 'booster': 'gbtree', 'eta': 0.03, 'max_depth': 4, 'min_child_weight': 1, 'subsample': 0.9, 'colsample_bytree': 0.7, 'gamma': 0.8, 'silent': 1, 'seed': 10, 'tree_method': 'gpu_hist', 'gpu_id': 0}\n",
      "Train a XGBoost model\n",
      "Training time is 106.756604 s.\n",
      "validating\n",
      "RMSPE: 0.160481\n",
      "Iter No is 10.000000.\n",
      "{'objective': 'reg:squarederror', 'learning_rate': 0.1, 'booster': 'gbtree', 'eta': 0.03, 'max_depth': 4, 'min_child_weight': 2, 'subsample': 0.9, 'colsample_bytree': 0.7, 'gamma': 0.8, 'silent': 1, 'seed': 10, 'tree_method': 'gpu_hist', 'gpu_id': 0}\n",
      "Train a XGBoost model\n",
      "Training time is 75.512911 s.\n",
      "validating\n",
      "RMSPE: 0.165659\n",
      "Iter No is 11.000000.\n",
      "{'objective': 'reg:squarederror', 'learning_rate': 0.1, 'booster': 'gbtree', 'eta': 0.03, 'max_depth': 4, 'min_child_weight': 3, 'subsample': 0.9, 'colsample_bytree': 0.7, 'gamma': 0.8, 'silent': 1, 'seed': 10, 'tree_method': 'gpu_hist', 'gpu_id': 0}\n",
      "Train a XGBoost model\n"
     ]
    }
   ],
   "source": [
    "grid_search_xg(params, param_grid)"
   ]
  },
  {
   "cell_type": "code",
   "execution_count": 125,
   "metadata": {},
   "outputs": [
    {
     "name": "stdout",
     "output_type": "stream",
     "text": [
      "Make predictions on the test set\n"
     ]
    }
   ],
   "source": [
    "print(\"Make predictions on the test set\")\n",
    "dtest = xgb.DMatrix(xtest)\n",
    "test_probs = gbm.predict(dtest)"
   ]
  },
  {
   "cell_type": "code",
   "execution_count": 126,
   "metadata": {},
   "outputs": [],
   "source": [
    "# model1  kaggle private score 0.12647\n",
    "result = pd.DataFrame({\"Id\": test['Id'], 'Sales': np.expm1(test_probs)})\n",
    "result.to_csv(\"Rossmann_submission_1.csv\", index=False)"
   ]
  },
  {
   "cell_type": "code",
   "execution_count": null,
   "metadata": {},
   "outputs": [],
   "source": [
    "# model2 kaggle private score 0.11756\n",
    "result = pd.DataFrame({\"Id\": test['Id'], 'Sales': np.expm1(test_probs*0.995)})\n",
    "result.to_csv(\"Rossmann_submission_2.csv\", index=False)"
   ]
  },
  {
   "cell_type": "code",
   "execution_count": null,
   "metadata": {},
   "outputs": [],
   "source": [
    "# model3 kaggle private score 0.11292\n",
    "result = pd.DataFrame({\"Id\": test['Id'], 'Sales': np.expm1(test_probs*W_test)})\n",
    "result.to_csv(\"Rossmann_submission_3.csv\", index=False)"
   ]
  }
 ],
 "metadata": {
  "kernelspec": {
   "display_name": "Python 3",
   "language": "python",
   "name": "python3"
  },
  "language_info": {
   "codemirror_mode": {
    "name": "ipython",
    "version": 3
   },
   "file_extension": ".py",
   "mimetype": "text/x-python",
   "name": "python",
   "nbconvert_exporter": "python",
   "pygments_lexer": "ipython3",
   "version": "3.7.5"
  }
 },
 "nbformat": 4,
 "nbformat_minor": 4
}
